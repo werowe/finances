{
 "cells": [
  {
   "cell_type": "code",
   "execution_count": 45,
   "id": "ce45466f",
   "metadata": {},
   "outputs": [],
   "source": [
    "\n",
    "\n",
    "import re\n",
    "from langchain_ollama import ChatOllama\n",
    "from langchain_community.utilities import SQLDatabase\n",
    "from langchain.chains import create_sql_query_chain\n",
    "from langchain_core.prompts import ChatPromptTemplate\n",
    "from langchain.chat_models import init_chat_model\n",
    "from typing_extensions import Annotated\n",
    "from typing_extensions import TypedDict\n",
    "from langchain_core.prompts import PromptTemplate\n",
    "import os\n",
    "\n",
    "#TypedDicts like State define what fields are expected in the Python object \n",
    "#passed between steps, functions, or graph nodes.\n",
    "\n",
    "class State(TypedDict):\n",
    "    question: str\n",
    "    query: str\n",
    "    result: str\n",
    "    answer: str\n",
    "\n",
    "class QueryOutput(TypedDict):\n",
    "    query: str\n",
    "    \n",
    "#pwd = os.getenv(\"MYSQL_PASS\")\n",
    "\n",
    "pwd = \"NewStrongPassword!\"\n",
    "\n",
    "db = SQLDatabase.from_uri(\n",
    "    \"mysql+mysqlconnector://root:\" + pwd + \"@localhost:3306/finances\"\n",
    ")\n",
    " \n",
    "llm = ChatOllama(model=\"llama3.1\", temperature=0)\n",
    " \n",
    "\n",
    "prompt = ChatPromptTemplate.from_messages([\n",
    "    (\"system\",\n",
    "     \"You are a MySQL expert. Given an input question, create a syntactically correct {dialect} query to run.\\n\"\n",
    "     \"Unless otherwise specified, do not return more than {top_k} rows.\\n\"\n",
    "     \"Use only the following tables, columns, and sample rows:\\n{table_info}\\n\\n\"\n",
    "     \"Return only a single SQL statement. No explanations, no markdown, no code fences.\"),\n",
    "    (\"human\", \"{input}\")\n",
    "])\n",
    "\n",
    "\n",
    "\n",
    "# 4) Chain with required variables (create_sql_query_chain injects table_info/top_k)\n",
    "chain = create_sql_query_chain(llm, db, prompt=prompt)\n",
    "\n",
    "# 5) Defensive extractor to strip any stray prose/markdown\n",
    "SQL_PATTERN = re.compile(r'(?is)\\\\b(SELECT|WITH|INSERT|UPDATE|DELETE)\\\\b.*?;', re.DOTALL)\n",
    "\n",
    "def extract_sql(text: str) -> str:\n",
    "    cleaned = text.replace(\"``````\", \"\").strip()\n",
    "    m = SQL_PATTERN.search(cleaned.replace(\"\\n\", \" \"))\n",
    "    return m.group(0).strip() if m else cleaned\n",
    "\n",
    "\n",
    "system_message = \"\"\"\n",
    "Given an input question, create a syntactically correct {dialect} query to\n",
    "run to help find the answer. Unless the user specifies in his question a\n",
    "specific number of examples they wish to obtain, always limit your query to\n",
    "at most {top_k} results. You can order the results by a relevant column to\n",
    "return the most interesting examples in the database.\n",
    "\n",
    "Never query for all the columns from a specific table, only ask for a the\n",
    "few relevant columns given the question.\n",
    "\n",
    "Pay attention to use only the column names that you can see in the schema\n",
    "description. Be careful to not query for columns that do not exist. Also,\n",
    "pay attention to which column is in which table.\n",
    "\n",
    "When filtering by year and month, use either DATE_FORMAT(Date, '%Y-%m') = 'YYYY-MM'  \n",
    "or LEFT(Date, 7) = 'YYYY-MM'. Do NOT use LIKE patterns; instead, extract the year-month correctly.\n",
    "\n",
    "\n",
    " \n",
    "Only use the following tables:\n",
    "{table_info}\n",
    "\"\"\"\n",
    "\n",
    "user_prompt = \"Question: {input}\"\n",
    "\n",
    "query_prompt_template = ChatPromptTemplate(\n",
    "    [(\"system\", system_message), (\"user\", user_prompt)]\n",
    ")\n",
    "    \n",
    "class QueryOutput(TypedDict):\n",
    "    \"\"\"Generated SQL query.\"\"\"\n",
    "\n",
    "    query: Annotated[str, ..., \"Syntactically valid SQL query.\"]\n",
    "\n",
    "\n",
    "def write_query(state: State):\n",
    "    \"\"\"Generate SQL query to fetch information.\"\"\"\n",
    "    prompt = query_prompt_template.invoke(\n",
    "        {\n",
    "            \"dialect\": db.dialect,\n",
    "            \"top_k\": 10,\n",
    "            \"table_info\": db.get_table_info(),\n",
    "            \"input\": state[\"question\"],\n",
    "        }\n",
    "    )\n",
    "    structured_llm = llm.with_structured_output(QueryOutput)\n",
    "    result = structured_llm.invoke(prompt)\n",
    "    return {\"query\": result[\"query\"]}\n",
    " "
   ]
  },
  {
   "cell_type": "code",
   "execution_count": 46,
   "id": "e5098ed7",
   "metadata": {},
   "outputs": [],
   "source": [
    "question = \"How much money did I spend in February 2024?\"\n",
    "query= write_query({\"question\": question})"
   ]
  },
  {
   "cell_type": "code",
   "execution_count": 47,
   "id": "c42df74b",
   "metadata": {},
   "outputs": [],
   "source": [
    "from langchain_community.tools.sql_database.tool import QuerySQLDatabaseTool\n",
    "\n",
    "\n",
    "def execute_query(state: State):\n",
    "    \"\"\"Execute SQL query.\"\"\"\n",
    "    execute_query_tool = QuerySQLDatabaseTool(db=db)\n",
    "    return {\"result\": execute_query_tool.invoke(state[\"query\"])}"
   ]
  },
  {
   "cell_type": "code",
   "execution_count": 48,
   "id": "890f7b85",
   "metadata": {},
   "outputs": [],
   "source": [
    "result=execute_query({\"query\": sqlQuery})"
   ]
  },
  {
   "cell_type": "code",
   "execution_count": 49,
   "id": "d3815f9d",
   "metadata": {},
   "outputs": [
    {
     "data": {
      "text/plain": [
       "{'query': \"SELECT SUM(Amount) FROM pocketsmith_search WHERE DATE_FORMAT(Date, '%Y-%m') = '2024-02'\"}"
      ]
     },
     "execution_count": 49,
     "metadata": {},
     "output_type": "execute_result"
    }
   ],
   "source": [
    "sqlQuery"
   ]
  },
  {
   "cell_type": "code",
   "execution_count": 50,
   "id": "77c77bfb",
   "metadata": {},
   "outputs": [],
   "source": [
    "def generate_answer(state: State):\n",
    "    \"\"\"Answer question using retrieved information as context.\"\"\"\n",
    "    prompt = (\n",
    "        \"Given the following user question, corresponding SQL query, \"\n",
    "        \"and SQL result, answer the user question.\\n\\n\"\n",
    "        f\"Question: {state['question']}\\n\"\n",
    "        f\"SQL Query: {state['query']}\\n\"\n",
    "        f\"SQL Result: {state['result']}\"\n",
    "    )\n",
    "    response = llm.invoke(prompt)\n",
    "    return {\"answer\": response.content}\n",
    "\n"
   ]
  },
  {
   "cell_type": "code",
   "execution_count": 52,
   "id": "c7cf4622",
   "metadata": {},
   "outputs": [
    {
     "data": {
      "text/plain": [
       "{'answer': 'You spent $4,219.20 in February 2024.'}"
      ]
     },
     "execution_count": 52,
     "metadata": {},
     "output_type": "execute_result"
    }
   ],
   "source": [
    "generate_answer({\n",
    "    \"question\": question,\n",
    "    \"query\": query,\n",
    "    \"result\": result,\n",
    "    \"answer\": \"\"   \n",
    "})\n"
   ]
  }
 ],
 "metadata": {
  "kernelspec": {
   "display_name": "Python (tf)",
   "language": "python",
   "name": "tf"
  },
  "language_info": {
   "codemirror_mode": {
    "name": "ipython",
    "version": 3
   },
   "file_extension": ".py",
   "mimetype": "text/x-python",
   "name": "python",
   "nbconvert_exporter": "python",
   "pygments_lexer": "ipython3",
   "version": "3.12.3"
  }
 },
 "nbformat": 4,
 "nbformat_minor": 5
}
